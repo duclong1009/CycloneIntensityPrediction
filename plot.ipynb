{
 "cells": [
  {
   "cell_type": "code",
   "execution_count": 1,
   "metadata": {},
   "outputs": [],
   "source": [
    "import matplotlib.pyplot as plt"
   ]
  },
  {
   "cell_type": "code",
   "execution_count": 2,
   "metadata": {},
   "outputs": [
    {
     "ename": "KeyError",
     "evalue": "'groundtruth'",
     "output_type": "error",
     "traceback": [
      "\u001b[0;31m---------------------------------------------------------------------------\u001b[0m",
      "\u001b[0;31mKeyError\u001b[0m                                  Traceback (most recent call last)",
      "File \u001b[0;32m/mnt/disk1/anaconda3/envs/along/lib/python3.8/site-packages/pandas/core/indexes/base.py:3653\u001b[0m, in \u001b[0;36mIndex.get_loc\u001b[0;34m(self, key)\u001b[0m\n\u001b[1;32m   3652\u001b[0m \u001b[39mtry\u001b[39;00m:\n\u001b[0;32m-> 3653\u001b[0m     \u001b[39mreturn\u001b[39;00m \u001b[39mself\u001b[39;49m\u001b[39m.\u001b[39;49m_engine\u001b[39m.\u001b[39;49mget_loc(casted_key)\n\u001b[1;32m   3654\u001b[0m \u001b[39mexcept\u001b[39;00m \u001b[39mKeyError\u001b[39;00m \u001b[39mas\u001b[39;00m err:\n",
      "File \u001b[0;32m/mnt/disk1/anaconda3/envs/along/lib/python3.8/site-packages/pandas/_libs/index.pyx:147\u001b[0m, in \u001b[0;36mpandas._libs.index.IndexEngine.get_loc\u001b[0;34m()\u001b[0m\n",
      "File \u001b[0;32m/mnt/disk1/anaconda3/envs/along/lib/python3.8/site-packages/pandas/_libs/index.pyx:176\u001b[0m, in \u001b[0;36mpandas._libs.index.IndexEngine.get_loc\u001b[0;34m()\u001b[0m\n",
      "File \u001b[0;32mpandas/_libs/hashtable_class_helper.pxi:7080\u001b[0m, in \u001b[0;36mpandas._libs.hashtable.PyObjectHashTable.get_item\u001b[0;34m()\u001b[0m\n",
      "File \u001b[0;32mpandas/_libs/hashtable_class_helper.pxi:7088\u001b[0m, in \u001b[0;36mpandas._libs.hashtable.PyObjectHashTable.get_item\u001b[0;34m()\u001b[0m\n",
      "\u001b[0;31mKeyError\u001b[0m: 'groundtruth'",
      "\nThe above exception was the direct cause of the following exception:\n",
      "\u001b[0;31mKeyError\u001b[0m                                  Traceback (most recent call last)",
      "Cell \u001b[0;32mIn[2], line 19\u001b[0m\n\u001b[1;32m     16\u001b[0m         \u001b[39mreturn\u001b[39;00m \u001b[39m'\u001b[39m\u001b[39mTyphoon\u001b[39m\u001b[39m'\u001b[39m\n\u001b[1;32m     18\u001b[0m \u001b[39m# Thêm cột phân loại cho từng thuật toán\u001b[39;00m\n\u001b[0;32m---> 19\u001b[0m data_algo1[\u001b[39m'\u001b[39m\u001b[39mCategory\u001b[39m\u001b[39m'\u001b[39m] \u001b[39m=\u001b[39m data_algo1[\u001b[39m'\u001b[39;49m\u001b[39mgroundtruth\u001b[39;49m\u001b[39m'\u001b[39;49m]\u001b[39m.\u001b[39mapply(classify_cyclone_strength)\n\u001b[1;32m     20\u001b[0m data_algo2[\u001b[39m'\u001b[39m\u001b[39mCategory\u001b[39m\u001b[39m'\u001b[39m] \u001b[39m=\u001b[39m data_algo2[\u001b[39m'\u001b[39m\u001b[39mgroundtruth\u001b[39m\u001b[39m'\u001b[39m]\u001b[39m.\u001b[39mapply(classify_cyclone_strength)\n\u001b[1;32m     22\u001b[0m \u001b[39m# Tính sai số tuyệt đối\u001b[39;00m\n",
      "File \u001b[0;32m/mnt/disk1/anaconda3/envs/along/lib/python3.8/site-packages/pandas/core/frame.py:3761\u001b[0m, in \u001b[0;36mDataFrame.__getitem__\u001b[0;34m(self, key)\u001b[0m\n\u001b[1;32m   3759\u001b[0m \u001b[39mif\u001b[39;00m \u001b[39mself\u001b[39m\u001b[39m.\u001b[39mcolumns\u001b[39m.\u001b[39mnlevels \u001b[39m>\u001b[39m \u001b[39m1\u001b[39m:\n\u001b[1;32m   3760\u001b[0m     \u001b[39mreturn\u001b[39;00m \u001b[39mself\u001b[39m\u001b[39m.\u001b[39m_getitem_multilevel(key)\n\u001b[0;32m-> 3761\u001b[0m indexer \u001b[39m=\u001b[39m \u001b[39mself\u001b[39;49m\u001b[39m.\u001b[39;49mcolumns\u001b[39m.\u001b[39;49mget_loc(key)\n\u001b[1;32m   3762\u001b[0m \u001b[39mif\u001b[39;00m is_integer(indexer):\n\u001b[1;32m   3763\u001b[0m     indexer \u001b[39m=\u001b[39m [indexer]\n",
      "File \u001b[0;32m/mnt/disk1/anaconda3/envs/along/lib/python3.8/site-packages/pandas/core/indexes/base.py:3655\u001b[0m, in \u001b[0;36mIndex.get_loc\u001b[0;34m(self, key)\u001b[0m\n\u001b[1;32m   3653\u001b[0m     \u001b[39mreturn\u001b[39;00m \u001b[39mself\u001b[39m\u001b[39m.\u001b[39m_engine\u001b[39m.\u001b[39mget_loc(casted_key)\n\u001b[1;32m   3654\u001b[0m \u001b[39mexcept\u001b[39;00m \u001b[39mKeyError\u001b[39;00m \u001b[39mas\u001b[39;00m err:\n\u001b[0;32m-> 3655\u001b[0m     \u001b[39mraise\u001b[39;00m \u001b[39mKeyError\u001b[39;00m(key) \u001b[39mfrom\u001b[39;00m \u001b[39merr\u001b[39;00m\n\u001b[1;32m   3656\u001b[0m \u001b[39mexcept\u001b[39;00m \u001b[39mTypeError\u001b[39;00m:\n\u001b[1;32m   3657\u001b[0m     \u001b[39m# If we have a listlike key, _check_indexing_error will raise\u001b[39;00m\n\u001b[1;32m   3658\u001b[0m     \u001b[39m#  InvalidIndexError. Otherwise we fall through and re-raise\u001b[39;00m\n\u001b[1;32m   3659\u001b[0m     \u001b[39m#  the TypeError.\u001b[39;00m\n\u001b[1;32m   3660\u001b[0m     \u001b[39mself\u001b[39m\u001b[39m.\u001b[39m_check_indexing_error(key)\n",
      "\u001b[0;31mKeyError\u001b[0m: 'groundtruth'"
     ]
    }
   ],
   "source": [
    "import pandas as pd\n",
    "import numpy as np\n",
    "import matplotlib.pyplot as plt\n",
    "\n",
    "# Đọc dữ liệu từ hai tệp CSV\n",
    "data_algo1 = pd.read_csv('data4plot/prompt3_79_rm0.csv')\n",
    "data_algo2 = pd.read_csv('data4plot/prompt3_79.csv')\n",
    "\n",
    "# Hàm để phân loại mức độ bão dựa trên giá trị groundtruth\n",
    "def classify_cyclone_strength(value):\n",
    "    if value < 24:\n",
    "        return 'T. Storm'\n",
    "    elif 24 <= value <= 32:\n",
    "        return 'Severe TS'\n",
    "    else:\n",
    "        return 'Typhoon'\n",
    "\n",
    "# Thêm cột phân loại cho từng thuật toán\n",
    "data_algo1['Category'] = data_algo1['groundtruth'].apply(classify_cyclone_strength)\n",
    "data_algo2['Category'] = data_algo2['groundtruth'].apply(classify_cyclone_strength)\n",
    "\n",
    "# Tính sai số tuyệt đối\n",
    "data_algo1['Absolute Error'] = np.abs(data_algo1['groundtruth'] - data_algo1['prediction'])\n",
    "data_algo2['Absolute Error'] = np.abs(data_algo2['groundtruth'] - data_algo2['prediction'])\n",
    "\n",
    "# Tính sai số trung bình và độ lệch chuẩn cho từng nhóm\n",
    "mean_errors_algo1 = data_algo1.groupby('Category')['Absolute Error'].mean()\n",
    "std_errors_algo1 = data_algo1.groupby('Category')['Absolute Error'].std()\n",
    "mean_errors_algo2 = data_algo2.groupby('Category')['Absolute Error'].mean()\n",
    "std_errors_algo2 = data_algo2.groupby('Category')['Absolute Error'].std()\n",
    "\n",
    "# Xác định các nhóm và vị trí trên trục x\n",
    "categories = ['T. Storm', 'Severe TS', 'Typhoon']\n",
    "x = np.arange(len(categories))\n",
    "bar_width = 0.35\n",
    "\n",
    "# Vẽ biểu đồ\n",
    "fig, ax = plt.subplots(figsize=(8, 6))\n",
    "\n",
    "# Vẽ thanh cho thuật toán 1\n",
    "bars1 = ax.bar(x - bar_width/2, mean_errors_algo1[categories], bar_width, \n",
    "               yerr=std_errors_algo1[categories], label='Algorithm 1', capsize=5)\n",
    "\n",
    "# Vẽ thanh cho thuật toán 2\n",
    "bars2 = ax.bar(x + bar_width/2, mean_errors_algo2[categories], bar_width, \n",
    "               yerr=std_errors_algo2[categories], label='Algorithm 2', capsize=5)\n",
    "\n",
    "# Đặt tên trục và tiêu đề\n",
    "ax.set_xlabel('Tropical Cyclone Strength')\n",
    "ax.set_ylabel('Absolute Error')\n",
    "ax.set_title('Comparison of Absolute Error by Tropical Cyclone Strength')\n",
    "ax.set_xticks(x)\n",
    "ax.set_xticklabels(categories)\n",
    "ax.legend()\n",
    "\n",
    "plt.show()\n"
   ]
  },
  {
   "cell_type": "code",
   "execution_count": null,
   "metadata": {},
   "outputs": [],
   "source": []
  }
 ],
 "metadata": {
  "kernelspec": {
   "display_name": "along",
   "language": "python",
   "name": "python3"
  },
  "language_info": {
   "codemirror_mode": {
    "name": "ipython",
    "version": 3
   },
   "file_extension": ".py",
   "mimetype": "text/x-python",
   "name": "python",
   "nbconvert_exporter": "python",
   "pygments_lexer": "ipython3",
   "version": "3.8.18"
  },
  "orig_nbformat": 4,
  "vscode": {
   "interpreter": {
    "hash": "40e5030b3152c54baa5c59ffbee606935930dc9760192f572fe03384f3ae87e1"
   }
  }
 },
 "nbformat": 4,
 "nbformat_minor": 2
}
